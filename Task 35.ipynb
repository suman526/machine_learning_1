{
 "cells": [
  {
   "cell_type": "markdown",
   "metadata": {},
   "source": [
    "#  1st: <u>Take 2 images and combine it to form a single image. For example, collage</u>"
   ]
  },
  {
   "cell_type": "code",
   "execution_count": 4,
   "metadata": {},
   "outputs": [
    {
     "name": "stdout",
     "output_type": "stream",
     "text": [
      "This is picture 1 (369, 626, 3)\n"
     ]
    }
   ],
   "source": [
    "import cv2\n",
    "import numpy\n",
    "photo1 = cv2.imread(\"pic1.jpg\")\n",
    "print(\"This is picture 1\",photo1.shape)\n",
    "cv2.imshow('suman',photo1)\n",
    "cv2.waitKey()\n",
    "cv2.destroyAllWindows()\n",
    "\n"
   ]
  },
  {
   "cell_type": "code",
   "execution_count": 5,
   "metadata": {},
   "outputs": [
    {
     "name": "stdout",
     "output_type": "stream",
     "text": [
      "picture 1 shape (398, 600, 3)\n"
     ]
    }
   ],
   "source": [
    "photo2 = cv2.imread(\"pic2.jpg\")\n",
    "print(\"picture 1 shape\",photo2.shape)\n",
    "cv2.imshow('suman',photo2)\n",
    "cv2.waitKey()\n",
    "cv2.destroyAllWindows()\n"
   ]
  },
  {
   "cell_type": "code",
   "execution_count": 6,
   "metadata": {},
   "outputs": [
    {
     "name": "stdout",
     "output_type": "stream",
     "text": [
      "This is picture 1 shape (200, 300, 3)\n",
      "\n",
      "\t\tPic 1 cropped!!!!!!\n"
     ]
    }
   ],
   "source": [
    "photo_c1 = photo1[140:340,140:440]\n",
    "print(\"This is picture 1 shape\", photo_c1.shape)\n",
    "print(\"\\n\\t\\tPic 1 cropped!!!!!!\")\n",
    "cv2.imshow('suman',photo_c1)\n",
    "cv2.waitKey()\n",
    "cv2.destroyAllWindows()\n"
   ]
  },
  {
   "cell_type": "code",
   "execution_count": 7,
   "metadata": {},
   "outputs": [
    {
     "name": "stdout",
     "output_type": "stream",
     "text": [
      "This is picture 2 shape (200, 300, 3)\n",
      "\n",
      "\t\tPic 2 cropped!!!!!!\n"
     ]
    }
   ],
   "source": [
    "photo_c2 = photo2[100:300,200:500]\n",
    "print(\"This is picture 2 shape\", photo_c2.shape)\n",
    "print(\"\\n\\t\\tPic 2 cropped!!!!!!\")\n",
    "cv2.imshow('suman',photo_c2)\n",
    "cv2.waitKey()\n",
    "cv2.destroyAllWindows()\n"
   ]
  },
  {
   "cell_type": "code",
   "execution_count": 8,
   "metadata": {},
   "outputs": [],
   "source": [
    "Horz = numpy.hstack((photo_c1, photo_c2))\n",
    "cv2.imshow('cc',Horz)\n",
    "cv2.waitKey()\n",
    "cv2.destroyAllWindows()"
   ]
  },
  {
   "cell_type": "markdown",
   "metadata": {},
   "source": [
    "# 2nd : <u>Take 2 images, crop some part of both the images and swap them</u>"
   ]
  },
  {
   "cell_type": "code",
   "execution_count": 9,
   "metadata": {},
   "outputs": [],
   "source": [
    "pic1=cv2.imread(\"abhi.png\")\n",
    "pic2=cv2.imread(\"jojo.png\")\n",
    "pic3=cv2.imread(\"abhi.png\")"
   ]
  },
  {
   "cell_type": "code",
   "execution_count": 10,
   "metadata": {},
   "outputs": [],
   "source": [
    "cv2.imshow(\"pic1\",pic1)\n",
    "cv2.waitKey()\n",
    "cv2.destroyAllWindows()"
   ]
  },
  {
   "cell_type": "code",
   "execution_count": 11,
   "metadata": {},
   "outputs": [],
   "source": [
    "cv2.imshow(\"pic2\",pic2)\n",
    "cv2.waitKey()\n",
    "cv2.destroyAllWindows()"
   ]
  },
  {
   "cell_type": "code",
   "execution_count": 12,
   "metadata": {},
   "outputs": [],
   "source": [
    "c1=pic2[30:130,190:300]\n",
    "pic1[30:130,190:300]=c1\n",
    "cv2.imshow(\"newabhi\",pic1)\n",
    "cv2.waitKey()\n",
    "cv2.destroyAllWindows()\n"
   ]
  },
  {
   "cell_type": "code",
   "execution_count": 13,
   "metadata": {},
   "outputs": [],
   "source": [
    "c2=pic3[30:130,190:300]\n",
    "pic2[30:130,190:300]=c2\n",
    "cv2.imshow(\"newjojo\",pic2)\n",
    "cv2.waitKey()\n",
    "cv2.destroyAllWindows()"
   ]
  },
  {
   "cell_type": "markdown",
   "metadata": {},
   "source": [
    "# 3: <u>Create image by yourself Using Python Code</u>"
   ]
  },
  {
   "cell_type": "code",
   "execution_count": 14,
   "metadata": {},
   "outputs": [],
   "source": [
    "import cv2\n",
    "\n",
    "import numpy as np\n",
    "\n",
    "pic=np.zeros((600, 600, 3))\n",
    "\n",
    "a1=cv2.circle(pic, center=(300, 300), radius=150, color=(255,255,0), thickness=-1)\n",
    "a2=cv2.circle(pic, center=(250, 250), radius=15, color=(255, 0, 0), thickness=-5)\n",
    "a3=cv2.circle(pic, center=(346, 250), radius=15, color=(255, 0, 0), thickness=-5)\n",
    "a4=cv2.ellipse(pic, center=(300, 300), axes=(70,70), angle=180, startAngle=180, endAngle=360, color=(255,0,0), thickness=5)\n",
    "\n",
    "\n",
    "cv2.imshow(\"SMILE\", pic)\n",
    "cv2.waitKey()\n",
    "cv2.destroyAllWindows()"
   ]
  },
  {
   "cell_type": "code",
   "execution_count": null,
   "metadata": {},
   "outputs": [],
   "source": []
  },
  {
   "cell_type": "code",
   "execution_count": null,
   "metadata": {},
   "outputs": [],
   "source": []
  }
 ],
 "metadata": {
  "celltoolbar": "Raw Cell Format",
  "kernelspec": {
   "display_name": "Python 3",
   "language": "python",
   "name": "python3"
  },
  "language_info": {
   "codemirror_mode": {
    "name": "ipython",
    "version": 3
   },
   "file_extension": ".py",
   "mimetype": "text/x-python",
   "name": "python",
   "nbconvert_exporter": "python",
   "pygments_lexer": "ipython3",
   "version": "3.8.3"
  }
 },
 "nbformat": 4,
 "nbformat_minor": 4
}
